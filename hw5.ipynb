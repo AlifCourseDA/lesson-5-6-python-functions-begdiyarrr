{
 "cells": [
  {
   "attachments": {
    "image-2.png": {
     "image/png": "[encoded data removed]"
    }
   },
   "cell_type": "markdown",
   "id": "72604ce5",
   "metadata": {
    "slideshow": {
     "slide_type": "slide"
    }
   },
   "source": [
    "![image-2.png](attachment:image-2.png)"
   ]
  },
  {
   "cell_type": "markdown",
   "id": "00dd6fb6",
   "metadata": {
    "slideshow": {
     "slide_type": "fragment"
    }
   },
   "source": [
    "# ДЗ №5"
   ]
  },
  {
   "cell_type": "markdown",
   "id": "e28a8323",
   "metadata": {},
   "source": [
    "В этом занятии практика будет ограничиваться исключительно задачами из учебника Яндекс: \n",
    "\n",
    "- В первую очередь надо будет прорешать задания из [модуля 4.1](https://new.contest.yandex.ru/41242/statistics)\n",
    "- Далее надо перейти к [модулю 4.2](https://new.contest.yandex.ru/41243/statistics)\n",
    "- Завершите вы это домашнее задание [модулем 4.3](https://new.contest.yandex.ru/41244/statistics)"
   ]
  },
  {
   "cell_type": "markdown",
   "id": "4a271ca8",
   "metadata": {},
   "source": [
    "#### Модуль 4.1 "
   ]
  },
  {
   "cell_type": "code",
   "execution_count": null,
   "id": "0f5f93d2",
   "metadata": {},
   "outputs": [],
   "source": [
    "# Функциональное приветствие\n",
    "def print_hello(name):\n",
    "    print(f'Hello, {name}!')"
   ]
  },
  {
   "cell_type": "code",
   "execution_count": null,
   "id": "7ae984f4",
   "metadata": {},
   "outputs": [],
   "source": [
    "# Функциональный НОД\n",
    "def gcd(num1, num2):\n",
    "\n",
    "    while num2 != 0:\n",
    "        num1, num2 = num2, num1 % num2\n",
    "\n",
    "    return num1"
   ]
  },
  {
   "cell_type": "code",
   "execution_count": null,
   "id": "a36130e4",
   "metadata": {},
   "outputs": [],
   "source": [
    "# Длина числа\n",
    "def number_length(number):\n",
    "    return len([n for n in str(number) if n.isdecimal()])"
   ]
  },
  {
   "cell_type": "code",
   "execution_count": null,
   "id": "6ba7406d",
   "metadata": {},
   "outputs": [],
   "source": [
    "# Имя of the month\n",
    "months_dict = {\n",
    "    'January': 'Январь',\n",
    "    'February': 'Февраль',\n",
    "    'March': 'Март',\n",
    "    'April': 'Апрель',\n",
    "    'May': 'Май',\n",
    "    'June': 'Июнь',\n",
    "    'July': 'Июль',\n",
    "    'August': 'Август',\n",
    "    'September': 'Сентябрь',\n",
    "    'October': 'Октябрь',\n",
    "    'November': 'Ноябрь',\n",
    "    'December': 'Декабрь'\n",
    "}\n",
    "\n",
    "\n",
    "def month(num, lang):\n",
    "    if lang == 'en':\n",
    "        return list(months_dict.keys())[num - 1]\n",
    "    elif lang == 'ru':\n",
    "        return list(months_dict.values())[num - 1]"
   ]
  },
  {
   "cell_type": "code",
   "execution_count": null,
   "id": "ae2ac43d",
   "metadata": {},
   "outputs": [],
   "source": [
    "# Числовая строка\n",
    "def split_numbers(num_line):\n",
    "    return tuple(map(int, (num_line.split())))"
   ]
  },
  {
   "cell_type": "code",
   "execution_count": null,
   "id": "5cc7c9c2",
   "metadata": {},
   "outputs": [],
   "source": [
    "# Модернизация системы вывода\n",
    "list_calls = []\n",
    "\n",
    "\n",
    "def modern_print(str_line):\n",
    "    if str_line not in list_calls:\n",
    "        list_calls.append(str_line)\n",
    "        print(str_line)"
   ]
  },
  {
   "cell_type": "code",
   "execution_count": null,
   "id": "e846f199",
   "metadata": {},
   "outputs": [],
   "source": [
    "# Шахматный «обед»\n",
    "can_eat_list = [(2, 1), (1, 2), (-2, -1), (-1, -2), (2, -1), (-2, 1), (-1, 2), (1, -2)]\n",
    "\n",
    "\n",
    "def can_eat(post1, post2):\n",
    "    move = (post1[0] - post2[0], post1[1] - post2[1])\n",
    "    return move in can_eat_list"
   ]
  },
  {
   "cell_type": "code",
   "execution_count": null,
   "id": "8312e421",
   "metadata": {},
   "outputs": [],
   "source": [
    "# А роза упала на лапу Азора 7.0\n",
    "def is_palindrome(data):\n",
    "    data = str(data) if isinstance(data, int) else data\n",
    "    return data == data[::-1]"
   ]
  },
  {
   "cell_type": "code",
   "execution_count": null,
   "id": "197aa724",
   "metadata": {},
   "outputs": [],
   "source": [
    "# Простая задача 5.0\n",
    "def is_prime(number):\n",
    "    if number < 2:\n",
    "        return False\n",
    "    for n in range(2, int(number**0.5) + 1):\n",
    "        if number % n == 0:\n",
    "            return False\n",
    "    return True"
   ]
  },
  {
   "cell_type": "code",
   "execution_count": null,
   "id": "2d75c147",
   "metadata": {},
   "outputs": [],
   "source": [
    "# Слияние\n",
    "def merge(tuple1, tuple2):\n",
    "    result = []\n",
    "    i, j = 0, 0\n",
    "    while i < len(tuple1) and j < len(tuple2):\n",
    "        if tuple1[i] < tuple2[j]:\n",
    "            result.append(tuple1[i])\n",
    "            i += 1\n",
    "        else:\n",
    "            result.append(tuple2[j])\n",
    "            j += 1\n",
    "    if i < len(tuple1):\n",
    "        result.extend(tuple1[i:])\n",
    "    if j < len(tuple2):\n",
    "        result.extend(tuple2[j:])\n",
    "\n",
    "    return tuple(result)"
   ]
  },
  {
   "cell_type": "markdown",
   "id": "b0a6cacb",
   "metadata": {},
   "source": [
    "#### Модуль 4.2"
   ]
  },
  {
   "cell_type": "code",
   "execution_count": null,
   "id": "8beb4fae",
   "metadata": {},
   "outputs": [],
   "source": [
    "# Генератор списков\n",
    "def make_list(length, value=0):\n",
    "    return [value for _ in range(length)]"
   ]
  },
  {
   "cell_type": "code",
   "execution_count": null,
   "id": "8c357e12",
   "metadata": {},
   "outputs": [],
   "source": [
    "# Генератор матриц\n",
    "def make_matrix(size, value=0):\n",
    "    if isinstance(size, tuple):\n",
    "        return [[value for _ in range(size[0])] for _ in range(size[1])]\n",
    "    else:\n",
    "        return [[value for _ in range(size)] for _ in range(size)]"
   ]
  },
  {
   "cell_type": "code",
   "execution_count": null,
   "id": "b688eb96",
   "metadata": {},
   "outputs": [],
   "source": [
    "# Функциональный нод 2.0\n",
    "def gcd_two(num1, num2):\n",
    "    while num2:\n",
    "        num1, num2 = num2, num1 % num2\n",
    "    return num1\n",
    "\n",
    "\n",
    "def gcd(*numbers):\n",
    "    result = numbers[0]\n",
    "    for num in numbers[1:]:\n",
    "        result = gcd_two(result, num)\n",
    "    return result"
   ]
  },
  {
   "cell_type": "code",
   "execution_count": null,
   "id": "3c148fdb",
   "metadata": {},
   "outputs": [],
   "source": [
    "#  Имя of the month 2.0\n",
    "months_dict = {\n",
    "    'January': 'Январь',\n",
    "    'February': 'Февраль',\n",
    "    'March': 'Март',\n",
    "    'April': 'Апрель',\n",
    "    'May': 'Май',\n",
    "    'June': 'Июнь',\n",
    "    'July': 'Июль',\n",
    "    'August': 'Август',\n",
    "    'September': 'Сентябрь',\n",
    "    'October': 'Октябрь',\n",
    "    'November': 'Ноябрь',\n",
    "    'December': 'Декабрь'\n",
    "}\n",
    "\n",
    "\n",
    "def month(num, lang='ru'):\n",
    "    if lang == 'en':\n",
    "        return list(months_dict.keys())[num - 1]\n",
    "    elif lang == 'ru':\n",
    "        return list(months_dict.values())[num - 1]"
   ]
  },
  {
   "cell_type": "code",
   "execution_count": null,
   "id": "44e12e69",
   "metadata": {},
   "outputs": [],
   "source": [
    "# Подготовка данных\n",
    "def to_string(*data, sep=' ', end='\\n'):\n",
    "    data = list(map(str, data))\n",
    "    return sep.join(data) + end\n",
    "data = [7, 3, 1, \"hello\", (1, 2, 3)]\n",
    "result = to_string(*data, sep=\", \", end=\"!\")\n",
    "print(result)"
   ]
  },
  {
   "cell_type": "code",
   "execution_count": null,
   "id": "dff9960e",
   "metadata": {},
   "outputs": [],
   "source": [
    "# Кофейня\n",
    "coffee_types = {\n",
    "    'Эспрессо': {'coffee': 1, 'milk': 0, 'cream': 0},\n",
    "    'Капучино': {'coffee': 2, 'milk': 3, 'cream': 0},\n",
    "    'Макиато': {'coffee': 2, 'milk': 1, 'cream': 0},\n",
    "    'Кофе по-венски': {'coffee': 1, 'milk': 0, 'cream': 2},\n",
    "    'Латте Макиато': {'coffee': 1, 'milk': 2, 'cream': 1},\n",
    "    'Кон Панна': {'coffee': 1, 'milk': 0, 'cream': 1}\n",
    "}\n",
    "\n",
    "\n",
    "def order(*coffees_order):\n",
    "    for coffee_order in coffees_order:\n",
    "        order_cff = in_stock['coffee'] - coffee_types[coffee_order]['coffee']\n",
    "        order_milk = in_stock['milk'] - coffee_types[coffee_order]['milk']\n",
    "        order_cream = in_stock['cream'] - coffee_types[coffee_order]['cream']\n",
    "        if order_cff >= 0 and order_milk >= 0 and order_cream >= 0:\n",
    "            if coffee_order not in ordered_coffees:\n",
    "                ordered_coffees.append(coffee_order)\n",
    "                in_stock['coffee'] = order_cff\n",
    "                in_stock['milk'] = order_milk\n",
    "                in_stock['cream'] = order_cream\n",
    "                return coffee_order\n",
    "    return 'К сожалению, не можем предложить Вам напиток'\n",
    "\n",
    "\n",
    "ordered_coffees = []\n",
    "in_stock = {\"coffee\": 4, \"milk\": 4, \"cream\": 0}\n",
    "print(order(\"Капучино\", \"Макиато\", \"Эспрессо\"))\n",
    "print(order(\"Капучино\", \"Макиато\", \"Эспрессо\"))\n",
    "print(order(\"Капучино\", \"Макиато\", \"Эспрессо\"))"
   ]
  },
  {
   "cell_type": "code",
   "execution_count": null,
   "id": "38dd4bf8",
   "metadata": {},
   "outputs": [],
   "source": [
    "# В эфире рубрика «Эксперименты»\n",
    "odd_index_nums = [] \n",
    "even_index_nums = []\n",
    "\n",
    "\n",
    "def enter_results(*numbers):\n",
    "    for i, num in enumerate(numbers):\n",
    "        if i == 0 or i % 2 == 0:\n",
    "            even_index_nums.append(num)\n",
    "        elif i % 2 == 1:\n",
    "            odd_index_nums.append(num)\n",
    "\n",
    "\n",
    "def get_sum():\n",
    "    return (round(sum(even_index_nums), 2), round(sum(odd_index_nums), 2))\n",
    "\n",
    "\n",
    "def get_average():\n",
    "    return (round(sum(even_index_nums) / len(even_index_nums), 2), round(sum(odd_index_nums) / len(odd_index_nums), 2))"
   ]
  },
  {
   "cell_type": "code",
   "execution_count": null,
   "id": "ff0af827",
   "metadata": {},
   "outputs": [],
   "source": [
    "# Длинная сортировка\n",
    "lambda word: (len(word), word.lower())"
   ]
  },
  {
   "cell_type": "code",
   "execution_count": null,
   "id": "d72461d0",
   "metadata": {},
   "outputs": [],
   "source": [
    "# Чётная фильтрация\n",
    "lambda num: sum(map(int, list(str(num)))) % 2 == 0"
   ]
  },
  {
   "cell_type": "code",
   "execution_count": null,
   "id": "96ccca1c",
   "metadata": {},
   "outputs": [],
   "source": [
    "# Ключевой секрет"
   ]
  },
  {
   "cell_type": "markdown",
   "id": "d9951af4",
   "metadata": {},
   "source": [
    "#### Модуль 4.3"
   ]
  },
  {
   "cell_type": "code",
   "execution_count": null,
   "id": "c2b38c79",
   "metadata": {},
   "outputs": [],
   "source": [
    "# Рекурсивный сумматор\n",
    "def recursive_sum(*args):\n",
    "    if not args:\n",
    "        return 0\n",
    "    else:\n",
    "        return args[0] + recursive_sum(*args[1:])"
   ]
  },
  {
   "cell_type": "code",
   "execution_count": null,
   "id": "43922cca",
   "metadata": {},
   "outputs": [],
   "source": [
    "# Рекурсивный сумматор цифр\n",
    "def recursive_digit_sum(num):\n",
    "    if not num:\n",
    "        return 0\n",
    "    return int(str(num)[0]) + recursive_digit_sum(str(num)[1:])"
   ]
  },
  {
   "cell_type": "code",
   "execution_count": null,
   "id": "05504230",
   "metadata": {},
   "outputs": [],
   "source": [
    "# Многочлен N-ой степени\n",
    "def make_equation(*args):\n",
    "    if not args:\n",
    "        return \"\"\n",
    "    elif len(args) == 1:\n",
    "        return str(args[0])\n",
    "    else:\n",
    "        return f'({make_equation(*args[:-1])}) * x + {args[-1]}'\n",
    "result = make_equation(3, 1, 5, 2)\n",
    "print(result)\n"
   ]
  },
  {
   "cell_type": "code",
   "execution_count": null,
   "id": "badf610b",
   "metadata": {},
   "outputs": [],
   "source": [
    "# Декор результата\n",
    "def answer(func):\n",
    "    def wrapper(*args, **kwargs):\n",
    "        result = func(*args, **kwargs)\n",
    "        return f\"Результат функции: {result}\"\n",
    "    return wrapper"
   ]
  },
  {
   "cell_type": "code",
   "execution_count": null,
   "id": "2ddc0d42",
   "metadata": {},
   "outputs": [],
   "source": [
    "# Накопление результата\n",
    "def result_accumulator(func):\n",
    "    answers = []\n",
    "\n",
    "    def wrapper(*args, method='accumulate'):\n",
    "        nonlocal answers \n",
    "        result = func(*args)\n",
    "        answers.append(result)\n",
    "        if method == 'accumulate':\n",
    "            pass\n",
    "        elif method == 'drop':\n",
    "            accumulated_results = answers.copy()\n",
    "            answers = [] \n",
    "            return accumulated_results\n",
    "\n",
    "    return wrapper\n"
   ]
  },
  {
   "cell_type": "code",
   "execution_count": null,
   "id": "d42790f6",
   "metadata": {},
   "outputs": [],
   "source": [
    "# Сортировка слиянием\n",
    "def merge_sort(arr):\n",
    "    if len(arr) <= 1:\n",
    "        return arr\n",
    "\n",
    "    mid = len(arr) // 2\n",
    "    left_half = arr[:mid]\n",
    "    right_half = arr[mid:]\n",
    "    \n",
    "    left_half = merge_sort(left_half)\n",
    "    right_half = merge_sort(right_half)\n",
    "\n",
    "    return merge(left_half, right_half)\n",
    "\n",
    "\n",
    "def merge(arr1, arr2):\n",
    "    result = []\n",
    "    i, j = 0, 0\n",
    "    while i < len(arr1) and j < len(arr2):\n",
    "        if arr1[i] < arr2[j]:\n",
    "            result.append(arr1[i])\n",
    "            i += 1\n",
    "        else:\n",
    "            result.append(arr2[j])\n",
    "            j += 1\n",
    "    if i < len(arr1):\n",
    "        result.extend(arr1[i:])\n",
    "    if j < len(arr2):\n",
    "        result.extend(arr2[j:])\n",
    "\n",
    "    return result"
   ]
  },
  {
   "cell_type": "code",
   "execution_count": null,
   "id": "a2cca23e",
   "metadata": {},
   "outputs": [],
   "source": [
    "# Однотипность не порок\n",
    "def same_type(func):\n",
    "    def wrapper(*args):\n",
    "        for i in range(len(args) - 1):\n",
    "            if not isinstance(args[i], type(args[i + 1])):\n",
    "                return \"Обнаружены различные типы данных\\nFail\"\n",
    "        result = func(*args)\n",
    "        return result\n",
    "\n",
    "    return wrapper"
   ]
  },
  {
   "cell_type": "code",
   "execution_count": null,
   "id": "79cb7bcd",
   "metadata": {},
   "outputs": [],
   "source": [
    "# Генератор Фибоначчи\n",
    "def fibonacci(count):\n",
    "    a, b = 0, 1\n",
    "    for _ in range(count):\n",
    "        yield a\n",
    "        a, b = b, a + b"
   ]
  },
  {
   "cell_type": "code",
   "execution_count": null,
   "id": "b1506894",
   "metadata": {},
   "outputs": [],
   "source": [
    "# Циклический генератор\n",
    "def cycle(lst, count):\n",
    "    index = 0\n",
    "    for _ in range(count):\n",
    "        yield lst[index]\n",
    "        index = (index + 1) % len(lst)"
   ]
  },
  {
   "cell_type": "code",
   "execution_count": null,
   "id": "575657d0",
   "metadata": {},
   "outputs": [],
   "source": [
    "# \"Выпрямление\" списка\n",
    "def make_linear(lst): \n",
    "    result = []\n",
    "    for item in lst: \n",
    "        if isinstance(item, list):\n",
    "            result.extend(make_linear(item))\n",
    "        else:\n",
    "            result.append(item)\n",
    "    return result"
   ]
  }
 ],
 "metadata": {
  "kernelspec": {
   "display_name": "Python 3 (ipykernel)",
   "language": "python",
   "name": "python3"
  },
  "language_info": {
   "codemirror_mode": {
    "name": "ipython",
    "version": 3
   },
   "file_extension": ".py",
   "mimetype": "text/x-python",
   "name": "python",
   "nbconvert_exporter": "python",
   "pygments_lexer": "ipython3",
   "version": "3.11.6"
  }
 },
 "nbformat": 4,
 "nbformat_minor": 5
}
